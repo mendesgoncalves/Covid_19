{
  "nbformat": 4,
  "nbformat_minor": 0,
  "metadata": {
    "colab": {
      "name": "Covid_19.ipynb",
      "provenance": [],
      "authorship_tag": "ABX9TyOWA6JjwUPG1b1vPrPSFImR",
      "include_colab_link": true
    },
    "kernelspec": {
      "name": "python3",
      "display_name": "Python 3"
    },
    "language_info": {
      "name": "python"
    }
  },
  "cells": [
    {
      "cell_type": "markdown",
      "metadata": {
        "id": "view-in-github",
        "colab_type": "text"
      },
      "source": [
        "<a href=\"https://colab.research.google.com/github/mendesgoncalves/Covid_19/blob/main/Covid_19.ipynb\" target=\"_parent\"><img src=\"https://colab.research.google.com/assets/colab-badge.svg\" alt=\"Open In Colab\"/></a>"
      ]
    },
    {
      "cell_type": "code",
      "execution_count": null,
      "metadata": {
        "id": "niM1ralGTJ43"
      },
      "outputs": [],
      "source": [
        "from ast import increment_lineno\n",
        "import pandas as pd\n",
        "from urllib.request import urlretrieve\n",
        "from matplotlib  import pyplot as plt\n",
        "#baixando o dataset atraves do link\n",
        "url='https://raw.githubusercontent.com/CSSEGISandData/COVID-19/master/csse_covid_19_data/csse_covid_19_time_series/time_series_covid19_confirmed_global.csv'\n",
        "urlretrieve(url, 'global_cases_covid19.csv')\n",
        "df_covid=pd.read_csv('global_cases_covid19.csv')\n",
        "#Tirar a Latitude e a Longitude\n",
        "df_covid.drop(['Lat', 'Long'], axis=1, inplace=True)\n",
        "print(df_covid)\n",
        "#Agrupando segundo o pais, e somar os valores\n",
        "df_country = df_covid.groupby('Country/Region').sum()\n",
        "print(df_country.head())\n",
        "#mostrando linhas especificas\n",
        "print(df_country.loc['Angola'].head())\n",
        "print(df_country.loc['Portugal'].head())\n",
        "#Salvando as datas e os resultados em variaveis\n",
        "s_angola=df_country.loc['Angola']\n",
        "s_angola=s_angola[s_angola > 0]\n",
        "print(s_angola.index,s_angola.values)\n",
        "tam=len(s_angola)\n",
        "plt.figure(figsize=(10, 6))\n",
        "plt.xticks(rotation=60)\n",
        "plt.bar(s_angola.index[tam-1500:tam], s_angola.values[tam-1500:tam])\n",
        "plt.title('Total de Casos confirmados 2022 (Angola)')\n",
        "plt.show()"
      ]
    }
  ]
}